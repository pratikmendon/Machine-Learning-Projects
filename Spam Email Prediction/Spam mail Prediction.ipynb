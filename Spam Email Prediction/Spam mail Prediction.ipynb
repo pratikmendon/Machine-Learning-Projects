{
 "cells": [
  {
   "cell_type": "markdown",
   "metadata": {
    "colab_type": "text",
    "id": "aBN3FZVGI4Kj"
   },
   "source": [
    "Import Libraries"
   ]
  },
  {
   "cell_type": "code",
   "execution_count": 1,
   "metadata": {
    "colab": {},
    "colab_type": "code",
    "id": "S9RZAmr7IeXr"
   },
   "outputs": [],
   "source": [
    "import numpy as np\n",
    "import pandas as pd\n",
    "from sklearn.model_selection import train_test_split\n",
    "from sklearn.feature_extraction.text import TfidfVectorizer\n",
    "from sklearn.svm import LinearSVC\n",
    "from sklearn.metrics import accuracy_score"
   ]
  },
  {
   "cell_type": "markdown",
   "metadata": {
    "colab_type": "text",
    "id": "g_pA_DmFJWyD"
   },
   "source": [
    "Data Preprocessing"
   ]
  },
  {
   "cell_type": "code",
   "execution_count": 2,
   "metadata": {
    "colab": {},
    "colab_type": "code",
    "id": "eiIzBUxhJUwp"
   },
   "outputs": [],
   "source": [
    "# load the dataset to pandas Data Frame\n",
    "raw_mail_data = pd.read_csv('spamham.csv')\n",
    "# replace the null values with a null string\n",
    "mail_data = raw_mail_data.where((pd.notnull(raw_mail_data)), '')"
   ]
  },
  {
   "cell_type": "code",
   "execution_count": 4,
   "metadata": {
    "colab": {
     "base_uri": "https://localhost:8080/",
     "height": 35
    },
    "colab_type": "code",
    "executionInfo": {
     "elapsed": 2259,
     "status": "ok",
     "timestamp": 1596358547219,
     "user": {
      "displayName": "siddhardh selvam",
      "photoUrl": "https://lh3.googleusercontent.com/a-/AOh14Gi_B0XWKs7bMey8MrAh8rdvGsYLyZHci46B2PrrQQ=s64",
      "userId": "13966379820454708749"
     },
     "user_tz": -330
    },
    "id": "I_ldm0dkJ4jx",
    "outputId": "732c0cb8-143a-47ee-da9d-e49b95ed8a6d"
   },
   "outputs": [
    {
     "data": {
      "text/plain": [
       "(5572, 2)"
      ]
     },
     "execution_count": 4,
     "metadata": {},
     "output_type": "execute_result"
    }
   ],
   "source": [
    "mail_data.shape"
   ]
  },
  {
   "cell_type": "code",
   "execution_count": 5,
   "metadata": {
    "colab": {
     "base_uri": "https://localhost:8080/",
     "height": 198
    },
    "colab_type": "code",
    "executionInfo": {
     "elapsed": 2216,
     "status": "ok",
     "timestamp": 1596358547221,
     "user": {
      "displayName": "siddhardh selvam",
      "photoUrl": "https://lh3.googleusercontent.com/a-/AOh14Gi_B0XWKs7bMey8MrAh8rdvGsYLyZHci46B2PrrQQ=s64",
      "userId": "13966379820454708749"
     },
     "user_tz": -330
    },
    "id": "7uAzKHmkJ7Je",
    "outputId": "cf16f1b1-81de-43e7-d4fc-67f11c68c48d"
   },
   "outputs": [
    {
     "data": {
      "text/html": [
       "<div>\n",
       "<style scoped>\n",
       "    .dataframe tbody tr th:only-of-type {\n",
       "        vertical-align: middle;\n",
       "    }\n",
       "\n",
       "    .dataframe tbody tr th {\n",
       "        vertical-align: top;\n",
       "    }\n",
       "\n",
       "    .dataframe thead th {\n",
       "        text-align: right;\n",
       "    }\n",
       "</style>\n",
       "<table border=\"1\" class=\"dataframe\">\n",
       "  <thead>\n",
       "    <tr style=\"text-align: right;\">\n",
       "      <th></th>\n",
       "      <th>Category</th>\n",
       "      <th>Message</th>\n",
       "    </tr>\n",
       "  </thead>\n",
       "  <tbody>\n",
       "    <tr>\n",
       "      <th>0</th>\n",
       "      <td>ham</td>\n",
       "      <td>Go until jurong point, crazy.. Available only ...</td>\n",
       "    </tr>\n",
       "    <tr>\n",
       "      <th>1</th>\n",
       "      <td>ham</td>\n",
       "      <td>Ok lar... Joking wif u oni...</td>\n",
       "    </tr>\n",
       "    <tr>\n",
       "      <th>2</th>\n",
       "      <td>spam</td>\n",
       "      <td>Free entry in 2 a wkly comp to win FA Cup fina...</td>\n",
       "    </tr>\n",
       "    <tr>\n",
       "      <th>3</th>\n",
       "      <td>ham</td>\n",
       "      <td>U dun say so early hor... U c already then say...</td>\n",
       "    </tr>\n",
       "    <tr>\n",
       "      <th>4</th>\n",
       "      <td>ham</td>\n",
       "      <td>Nah I don't think he goes to usf, he lives aro...</td>\n",
       "    </tr>\n",
       "  </tbody>\n",
       "</table>\n",
       "</div>"
      ],
      "text/plain": [
       "  Category                                            Message\n",
       "0      ham  Go until jurong point, crazy.. Available only ...\n",
       "1      ham                      Ok lar... Joking wif u oni...\n",
       "2     spam  Free entry in 2 a wkly comp to win FA Cup fina...\n",
       "3      ham  U dun say so early hor... U c already then say...\n",
       "4      ham  Nah I don't think he goes to usf, he lives aro..."
      ]
     },
     "execution_count": 5,
     "metadata": {},
     "output_type": "execute_result"
    }
   ],
   "source": [
    "mail_data.head() #sample data"
   ]
  },
  {
   "cell_type": "code",
   "execution_count": 6,
   "metadata": {
    "colab": {},
    "colab_type": "code",
    "id": "T6NAp_HtKCh0"
   },
   "outputs": [],
   "source": [
    "# label spam mail as 0; Non-spam mail (ham) mail as 1.\n",
    "mail_data.loc[mail_data['Category'] == 'spam', 'Category',] = 0\n",
    "mail_data.loc[mail_data['Category'] == 'ham', 'Category',] = 1"
   ]
  },
  {
   "cell_type": "code",
   "execution_count": 7,
   "metadata": {
    "colab": {},
    "colab_type": "code",
    "id": "eanxQWPoKfxz"
   },
   "outputs": [],
   "source": [
    "# separate the data as text and label. X --> text; Y --> label\n",
    "X = mail_data['Message']\n",
    "Y = mail_data['Category']"
   ]
  },
  {
   "cell_type": "code",
   "execution_count": 8,
   "metadata": {
    "colab": {
     "base_uri": "https://localhost:8080/",
     "height": 472
    },
    "colab_type": "code",
    "executionInfo": {
     "elapsed": 2112,
     "status": "ok",
     "timestamp": 1596358547226,
     "user": {
      "displayName": "siddhardh selvam",
      "photoUrl": "https://lh3.googleusercontent.com/a-/AOh14Gi_B0XWKs7bMey8MrAh8rdvGsYLyZHci46B2PrrQQ=s64",
      "userId": "13966379820454708749"
     },
     "user_tz": -330
    },
    "id": "9OU5IKPJKv3k",
    "outputId": "53ec1ae6-0f8b-4e16-b93d-02931157f390"
   },
   "outputs": [
    {
     "name": "stdout",
     "output_type": "stream",
     "text": [
      "0       Go until jurong point, crazy.. Available only ...\n",
      "1                           Ok lar... Joking wif u oni...\n",
      "2       Free entry in 2 a wkly comp to win FA Cup fina...\n",
      "3       U dun say so early hor... U c already then say...\n",
      "4       Nah I don't think he goes to usf, he lives aro...\n",
      "                              ...                        \n",
      "5567    This is the 2nd time we have tried 2 contact u...\n",
      "5568                 Will ü b going to esplanade fr home?\n",
      "5569    Pity, * was in mood for that. So...any other s...\n",
      "5570    The guy did some bitching but I acted like i'd...\n",
      "5571                           Rofl. Its true to its name\n",
      "Name: Message, Length: 5572, dtype: object\n",
      ".............\n",
      "0       1\n",
      "1       1\n",
      "2       0\n",
      "3       1\n",
      "4       1\n",
      "       ..\n",
      "5567    0\n",
      "5568    1\n",
      "5569    1\n",
      "5570    1\n",
      "5571    1\n",
      "Name: Category, Length: 5572, dtype: object\n"
     ]
    }
   ],
   "source": [
    "print(X)\n",
    "print('.............')\n",
    "print(Y)"
   ]
  },
  {
   "cell_type": "markdown",
   "metadata": {
    "colab_type": "text",
    "id": "HmtfVTvNLCUU"
   },
   "source": [
    "Train Test Split"
   ]
  },
  {
   "cell_type": "code",
   "execution_count": 9,
   "metadata": {
    "colab": {},
    "colab_type": "code",
    "id": "9FFzNDuoK18c"
   },
   "outputs": [],
   "source": [
    "# split the data as train data and test data\n",
    "X_train, X_test, Y_train, Y_test = train_test_split(X, Y, train_size=0.8, test_size=0.2, random_state=3, stratify = Y)"
   ]
  },
  {
   "cell_type": "markdown",
   "metadata": {
    "colab_type": "text",
    "id": "YGt9Fr1ZLYKo"
   },
   "source": [
    "Feature Extraction"
   ]
  },
  {
   "cell_type": "code",
   "execution_count": 12,
   "metadata": {
    "colab": {},
    "colab_type": "code",
    "id": "fscDv3yPLW3v"
   },
   "outputs": [],
   "source": [
    "# transform the text data to feature vectors that can be used as input to the SVM model using TfidfVectorizer\n",
    "# convert the text to lower case letters\n",
    "feature_extraction = TfidfVectorizer(min_df=1, stop_words='english', lowercase='True')\n",
    "X_train_features = feature_extraction.fit_transform(X_train)\n",
    "X_test_features = feature_extraction.transform(X_test)\n",
    "\n",
    "#convert Y_train and Y_test values as integers\n",
    "Y_train = Y_train.astype('int')\n",
    "Y_test = Y_test.astype('int')"
   ]
  },
  {
   "cell_type": "markdown",
   "metadata": {
    "colab_type": "text",
    "id": "yQnzKZ5GMVZH"
   },
   "source": [
    "Training the model --> **Support Vector Machine**"
   ]
  },
  {
   "cell_type": "code",
   "execution_count": 13,
   "metadata": {
    "colab": {
     "base_uri": "https://localhost:8080/",
     "height": 90
    },
    "colab_type": "code",
    "executionInfo": {
     "elapsed": 2004,
     "status": "ok",
     "timestamp": 1596358547233,
     "user": {
      "displayName": "siddhardh selvam",
      "photoUrl": "https://lh3.googleusercontent.com/a-/AOh14Gi_B0XWKs7bMey8MrAh8rdvGsYLyZHci46B2PrrQQ=s64",
      "userId": "13966379820454708749"
     },
     "user_tz": -330
    },
    "id": "Gu3MCKpPMT37",
    "outputId": "afcf782d-31ce-4962-b703-144b04f4ecac"
   },
   "outputs": [
    {
     "data": {
      "text/plain": [
       "LinearSVC(C=1.0, class_weight=None, dual=True, fit_intercept=True,\n",
       "     intercept_scaling=1, loss='squared_hinge', max_iter=1000,\n",
       "     multi_class='ovr', penalty='l2', random_state=None, tol=0.0001,\n",
       "     verbose=0)"
      ]
     },
     "execution_count": 13,
     "metadata": {},
     "output_type": "execute_result"
    }
   ],
   "source": [
    "# training the support vector machine model with training data\n",
    "model = LinearSVC()\n",
    "model.fit(X_train_features, Y_train) "
   ]
  },
  {
   "cell_type": "markdown",
   "metadata": {
    "colab_type": "text",
    "id": "63331_PnM97O"
   },
   "source": [
    "Evaluation of the model"
   ]
  },
  {
   "cell_type": "code",
   "execution_count": 14,
   "metadata": {
    "colab": {},
    "colab_type": "code",
    "id": "aS77ZUg4M6sR"
   },
   "outputs": [],
   "source": [
    "# prediction on training data\n",
    "prediction_on_training_data = model.predict(X_train_features)\n",
    "accuracy_on_training_data = accuracy_score(Y_train, prediction_on_training_data)"
   ]
  },
  {
   "cell_type": "code",
   "execution_count": 15,
   "metadata": {
    "colab": {
     "base_uri": "https://localhost:8080/",
     "height": 35
    },
    "colab_type": "code",
    "executionInfo": {
     "elapsed": 1939,
     "status": "ok",
     "timestamp": 1596358547236,
     "user": {
      "displayName": "siddhardh selvam",
      "photoUrl": "https://lh3.googleusercontent.com/a-/AOh14Gi_B0XWKs7bMey8MrAh8rdvGsYLyZHci46B2PrrQQ=s64",
      "userId": "13966379820454708749"
     },
     "user_tz": -330
    },
    "id": "_0KNOgE3NVMG",
    "outputId": "bc9b7b02-e853-49fc-ad42-f2295f36352b"
   },
   "outputs": [
    {
     "name": "stdout",
     "output_type": "stream",
     "text": [
      "Accuracy on training data :  0.9997756338344178\n"
     ]
    }
   ],
   "source": [
    "print('Accuracy on training data : ', accuracy_on_training_data)"
   ]
  },
  {
   "cell_type": "code",
   "execution_count": 16,
   "metadata": {
    "colab": {},
    "colab_type": "code",
    "id": "ysEXfhsrNb0s"
   },
   "outputs": [],
   "source": [
    "# prediction on test data\n",
    "prediction_on_test_data = model.predict(X_test_features)\n",
    "accuracy_on_test_data = accuracy_score(Y_test, prediction_on_test_data)"
   ]
  },
  {
   "cell_type": "code",
   "execution_count": 17,
   "metadata": {
    "colab": {
     "base_uri": "https://localhost:8080/",
     "height": 35
    },
    "colab_type": "code",
    "executionInfo": {
     "elapsed": 1880,
     "status": "ok",
     "timestamp": 1596358547239,
     "user": {
      "displayName": "siddhardh selvam",
      "photoUrl": "https://lh3.googleusercontent.com/a-/AOh14Gi_B0XWKs7bMey8MrAh8rdvGsYLyZHci46B2PrrQQ=s64",
      "userId": "13966379820454708749"
     },
     "user_tz": -330
    },
    "id": "eh5QfxupNoU8",
    "outputId": "c23b898f-9840-4929-ae09-5607e9df0066"
   },
   "outputs": [
    {
     "name": "stdout",
     "output_type": "stream",
     "text": [
      "Accuracy on test data :  0.9874439461883409\n"
     ]
    }
   ],
   "source": [
    "print('Accuracy on test data : ', accuracy_on_test_data)"
   ]
  },
  {
   "cell_type": "markdown",
   "metadata": {
    "colab_type": "text",
    "id": "vW5gVUZNN5hN"
   },
   "source": [
    "Prediction on new mail"
   ]
  },
  {
   "cell_type": "code",
   "execution_count": 18,
   "metadata": {
    "colab": {
     "base_uri": "https://localhost:8080/",
     "height": 54
    },
    "colab_type": "code",
    "executionInfo": {
     "elapsed": 1852,
     "status": "ok",
     "timestamp": 1596358547241,
     "user": {
      "displayName": "siddhardh selvam",
      "photoUrl": "https://lh3.googleusercontent.com/a-/AOh14Gi_B0XWKs7bMey8MrAh8rdvGsYLyZHci46B2PrrQQ=s64",
      "userId": "13966379820454708749"
     },
     "user_tz": -330
    },
    "id": "Yy7bqw4iNxow",
    "outputId": "91396792-5cfb-4d6b-8c2c-9569a0087f6b"
   },
   "outputs": [
    {
     "name": "stdout",
     "output_type": "stream",
     "text": [
      "[1]\n",
      "HAM MAIL\n"
     ]
    }
   ],
   "source": [
    "input_mail = [\"I've been searching for the right words to thank you for this breather. I promise i wont take your help for granted and will fulfil my promise. You have been wonderful and a blessing at all times.\"]\n",
    "# convert text to feature vectors\n",
    "input_mail_features = feature_extraction.transform(input_mail)\n",
    "\n",
    "#making prediction\n",
    "prediction = model.predict(input_mail_features)\n",
    "print(prediction)\n",
    "\n",
    "if (prediction[0]==1):\n",
    "  print('HAM MAIL')\n",
    "else:\n",
    "  print('SPAM MAIL')"
   ]
  },
  {
   "cell_type": "markdown",
   "metadata": {
    "colab": {},
    "colab_type": "code",
    "id": "5CSzzllWOt-C"
   },
   "source": [
    "Training the model -> **KNN**"
   ]
  },
  {
   "cell_type": "code",
   "execution_count": 34,
   "metadata": {},
   "outputs": [
    {
     "data": {
      "image/png": "[encoded data removed]",
      "text/plain": [
       "<Figure size 432x288 with 1 Axes>"
      ]
     },
     "metadata": {
      "needs_background": "light"
     },
     "output_type": "display_data"
    }
   ],
   "source": [
    "# Import kNN classifier\n",
    "from sklearn.neighbors import KNeighborsClassifier\n",
    "\n",
    "def Elbow(k):\n",
    "    test_error = []\n",
    "    \n",
    "    for i in k:\n",
    "        clf = KNeighborsClassifier(n_neighbors = i)\n",
    "        clf.fit(X_train_features,Y_train)\n",
    "        tmp = clf.predict(X_test_features)\n",
    "        tmp = accuracy_score(Y_test,tmp)\n",
    "        error = 1-tmp\n",
    "        test_error.append(error)\n",
    "        \n",
    "    return test_error\n",
    "\n",
    "k = range(1,5)\n",
    "test = Elbow(k)\n",
    "\n",
    "import matplotlib.pyplot as plt\n",
    "plt.plot(k,test)\n",
    "plt.show()\n",
    "\n"
   ]
  },
  {
   "cell_type": "code",
   "execution_count": 35,
   "metadata": {},
   "outputs": [
    {
     "data": {
      "text/plain": [
       "KNeighborsClassifier(algorithm='auto', leaf_size=30, metric='minkowski',\n",
       "           metric_params=None, n_jobs=None, n_neighbors=2, p=2,\n",
       "           weights='uniform')"
      ]
     },
     "execution_count": 35,
     "metadata": {},
     "output_type": "execute_result"
    }
   ],
   "source": [
    "# instantiate learning model (k = 2)\n",
    "knn = KNeighborsClassifier(n_neighbors=2)\n",
    "\n",
    "# Train the Classifier/fitting the model\n",
    "knn.fit(X_train_features, Y_train)"
   ]
  },
  {
   "cell_type": "markdown",
   "metadata": {},
   "source": [
    "Evaluation of the model"
   ]
  },
  {
   "cell_type": "code",
   "execution_count": 36,
   "metadata": {},
   "outputs": [
    {
     "name": "stdout",
     "output_type": "stream",
     "text": [
      "Accuracy on training data :  0.9997756338344178\n",
      "Accuracy on test data :  0.9551569506726457\n"
     ]
    }
   ],
   "source": [
    "# prediction on training data\n",
    "prediction_on_training_data = knn.predict(X_train_features)\n",
    "accuracy_on_training_data = accuracy_score(Y_train, prediction_on_training_data)\n",
    "print('Accuracy on training data : ', accuracy_on_training_data)\n",
    "\n",
    "# prediction on test data\n",
    "prediction_on_test_data = knn.predict(X_test_features)\n",
    "accuracy_on_test_data = accuracy_score(Y_test, prediction_on_test_data)\n",
    "print('Accuracy on test data : ', accuracy_on_test_data)"
   ]
  },
  {
   "cell_type": "markdown",
   "metadata": {},
   "source": [
    "Prediction on new mail"
   ]
  },
  {
   "cell_type": "code",
   "execution_count": 37,
   "metadata": {},
   "outputs": [
    {
     "name": "stdout",
     "output_type": "stream",
     "text": [
      "[1]\n",
      "HAM MAIL\n"
     ]
    }
   ],
   "source": [
    "input_mail = [\"I've been searching for the right words to thank you for this breather. I promise i wont take your help for granted and will fulfil my promise. You have been wonderful and a blessing at all times.\"]\n",
    "# convert text to feature vectors\n",
    "input_mail_features = feature_extraction.transform(input_mail)\n",
    "\n",
    "#making prediction\n",
    "prediction = knn.predict(input_mail_features)\n",
    "print(prediction)\n",
    "\n",
    "if (prediction[0]==1):\n",
    "  print('HAM MAIL')\n",
    "else:\n",
    "  print('SPAM MAIL')"
   ]
  },
  {
   "cell_type": "code",
   "execution_count": null,
   "metadata": {},
   "outputs": [],
   "source": []
  },
  {
   "cell_type": "code",
   "execution_count": null,
   "metadata": {},
   "outputs": [],
   "source": []
  }
 ],
 "metadata": {
  "colab": {
   "collapsed_sections": [],
   "name": "Copy of Spam mail Prediction.ipynb",
   "provenance": [
    {
     "file_id": "1Yu6xiCeIPeQIxUKLH5Jpb3aGDQlhzLX6",
     "timestamp": 1600961008996
    }
   ]
  },
  "kernelspec": {
   "display_name": "Python",
   "language": "python",
   "name": "conda-env-python-py"
  },
  "language_info": {
   "codemirror_mode": {
    "name": "ipython",
    "version": 3
   },
   "file_extension": ".py",
   "mimetype": "text/x-python",
   "name": "python",
   "nbconvert_exporter": "python",
   "pygments_lexer": "ipython3",
   "version": "3.6.11"
  }
 },
 "nbformat": 4,
 "nbformat_minor": 4
}
